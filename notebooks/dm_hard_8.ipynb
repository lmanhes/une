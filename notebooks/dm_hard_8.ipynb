{
 "cells": [
  {
   "cell_type": "code",
   "execution_count": 1,
   "id": "8f91d6e1",
   "metadata": {},
   "outputs": [
    {
     "name": "stdout",
     "output_type": "stream",
     "text": [
      "True\n",
      "True\n"
     ]
    }
   ],
   "source": [
    "import torch\n",
    "import math\n",
    "# this ensures that the current MacOS version is at least 12.3+\n",
    "print(torch.backends.mps.is_available())\n",
    "# this ensures that the current current PyTorch installation was built with MPS activated.\n",
    "print(torch.backends.mps.is_built())"
   ]
  },
  {
   "cell_type": "code",
   "execution_count": 7,
   "id": "37e077ca",
   "metadata": {
    "scrolled": false
   },
   "outputs": [
    {
     "ename": "FutureTimeoutError",
     "evalue": "",
     "output_type": "error",
     "traceback": [
      "\u001b[0;31m---------------------------------------------------------------------------\u001b[0m",
      "\u001b[0;31mFutureTimeoutError\u001b[0m                        Traceback (most recent call last)",
      "Cell \u001b[0;32mIn [7], line 5\u001b[0m\n\u001b[1;32m      1\u001b[0m \u001b[38;5;28;01mimport\u001b[39;00m \u001b[38;5;21;01mdm_hard_eight\u001b[39;00m\n\u001b[1;32m      3\u001b[0m settings \u001b[38;5;241m=\u001b[39m dm_hard_eight\u001b[38;5;241m.\u001b[39mEnvironmentSettings(seed\u001b[38;5;241m=\u001b[39m\u001b[38;5;241m123\u001b[39m,\n\u001b[1;32m      4\u001b[0m     level_name\u001b[38;5;241m=\u001b[39m\u001b[38;5;124m'\u001b[39m\u001b[38;5;124mball_room_navigation_cubes\u001b[39m\u001b[38;5;124m'\u001b[39m)\n\u001b[0;32m----> 5\u001b[0m env \u001b[38;5;241m=\u001b[39m \u001b[43mdm_hard_eight\u001b[49m\u001b[38;5;241;43m.\u001b[39;49m\u001b[43mload_from_docker\u001b[49m\u001b[43m(\u001b[49m\u001b[43msettings\u001b[49m\u001b[43m)\u001b[49m\n",
      "File \u001b[0;32m~/anaconda3/envs/une/lib/python3.10/site-packages/dm_hard_eight/_load_environment.py:352\u001b[0m, in \u001b[0;36mload_from_docker\u001b[0;34m(settings, name)\u001b[0m\n\u001b[1;32m    343\u001b[0m   logging\u001b[38;5;241m.\u001b[39minfo(\u001b[38;5;124m'\u001b[39m\u001b[38;5;124mDownload finished.\u001b[39m\u001b[38;5;124m'\u001b[39m)\n\u001b[1;32m    345\u001b[0m container \u001b[38;5;241m=\u001b[39m client\u001b[38;5;241m.\u001b[39mcontainers\u001b[38;5;241m.\u001b[39mrun(\n\u001b[1;32m    346\u001b[0m     name,\n\u001b[1;32m    347\u001b[0m     auto_remove\u001b[38;5;241m=\u001b[39m\u001b[38;5;28;01mTrue\u001b[39;00m,\n\u001b[1;32m    348\u001b[0m     detach\u001b[38;5;241m=\u001b[39m\u001b[38;5;28;01mTrue\u001b[39;00m,\n\u001b[1;32m    349\u001b[0m     ports\u001b[38;5;241m=\u001b[39m{_DOCKER_INTERNAL_GRPC_PORT: port})\n\u001b[1;32m    351\u001b[0m \u001b[38;5;28;01mreturn\u001b[39;00m _HardEightTasksContainerEnv(\n\u001b[0;32m--> 352\u001b[0m     \u001b[43m_connect_to_environment\u001b[49m\u001b[43m(\u001b[49m\u001b[43mport\u001b[49m\u001b[43m,\u001b[49m\u001b[43m \u001b[49m\u001b[43msettings\u001b[49m\u001b[43m)\u001b[49m, _HARD_EIGHT_TASK_OBSERVATIONS,\n\u001b[1;32m    353\u001b[0m     settings\u001b[38;5;241m.\u001b[39mnum_action_repeats, container)\n",
      "File \u001b[0;32m~/anaconda3/envs/une/lib/python3.10/site-packages/dm_hard_eight/_load_environment.py:220\u001b[0m, in \u001b[0;36m_connect_to_environment\u001b[0;34m(port, settings)\u001b[0m\n\u001b[1;32m    216\u001b[0m \u001b[38;5;28;01mif\u001b[39;00m settings\u001b[38;5;241m.\u001b[39mlevel_name \u001b[38;5;129;01mnot\u001b[39;00m \u001b[38;5;129;01min\u001b[39;00m HARD_EIGHT_TASK_LEVEL_NAMES:\n\u001b[1;32m    217\u001b[0m   \u001b[38;5;28;01mraise\u001b[39;00m \u001b[38;5;167;01mValueError\u001b[39;00m(\n\u001b[1;32m    218\u001b[0m       \u001b[38;5;124m'\u001b[39m\u001b[38;5;124mLevel named \u001b[39m\u001b[38;5;124m\"\u001b[39m\u001b[38;5;132;01m{}\u001b[39;00m\u001b[38;5;124m\"\u001b[39m\u001b[38;5;124m is not supported for dm_hard_eight\u001b[39m\u001b[38;5;124m'\u001b[39m\u001b[38;5;241m.\u001b[39mformat(\n\u001b[1;32m    219\u001b[0m           settings\u001b[38;5;241m.\u001b[39mlevel_name))\n\u001b[0;32m--> 220\u001b[0m channel, connection \u001b[38;5;241m=\u001b[39m \u001b[43m_create_channel_and_connection\u001b[49m\u001b[43m(\u001b[49m\u001b[43mport\u001b[49m\u001b[43m)\u001b[49m\n\u001b[1;32m    221\u001b[0m original_send \u001b[38;5;241m=\u001b[39m connection\u001b[38;5;241m.\u001b[39msend\n\u001b[1;32m    222\u001b[0m connection\u001b[38;5;241m.\u001b[39msend \u001b[38;5;241m=\u001b[39m \u001b[38;5;28;01mlambda\u001b[39;00m request: _wrap_send(\u001b[38;5;28;01mlambda\u001b[39;00m: original_send(request))\n",
      "File \u001b[0;32m~/anaconda3/envs/une/lib/python3.10/site-packages/dm_hard_eight/_load_environment.py:178\u001b[0m, in \u001b[0;36m_create_channel_and_connection\u001b[0;34m(port)\u001b[0m\n\u001b[1;32m    175\u001b[0m \u001b[38;5;28;01mfor\u001b[39;00m _ \u001b[38;5;129;01min\u001b[39;00m \u001b[38;5;28mrange\u001b[39m(_MAX_CONNECTION_ATTEMPTS):\n\u001b[1;32m    176\u001b[0m   channel \u001b[38;5;241m=\u001b[39m grpc\u001b[38;5;241m.\u001b[39msecure_channel(\u001b[38;5;124m'\u001b[39m\u001b[38;5;124mlocalhost:\u001b[39m\u001b[38;5;132;01m{}\u001b[39;00m\u001b[38;5;124m'\u001b[39m\u001b[38;5;241m.\u001b[39mformat(port),\n\u001b[1;32m    177\u001b[0m                                 grpc\u001b[38;5;241m.\u001b[39mlocal_channel_credentials())\n\u001b[0;32m--> 178\u001b[0m   \u001b[43m_check_grpc_channel_ready\u001b[49m\u001b[43m(\u001b[49m\u001b[43mchannel\u001b[49m\u001b[43m)\u001b[49m\n\u001b[1;32m    179\u001b[0m   connection \u001b[38;5;241m=\u001b[39m dm_env_rpc_connection\u001b[38;5;241m.\u001b[39mConnection(channel)\n\u001b[1;32m    180\u001b[0m   \u001b[38;5;28;01mif\u001b[39;00m _can_send_message(connection):\n",
      "File \u001b[0;32m~/anaconda3/envs/une/lib/python3.10/site-packages/dm_hard_eight/_load_environment.py:158\u001b[0m, in \u001b[0;36m_check_grpc_channel_ready\u001b[0;34m(channel)\u001b[0m\n\u001b[1;32m    156\u001b[0m   \u001b[38;5;28;01mexcept\u001b[39;00m grpc\u001b[38;5;241m.\u001b[39mFutureTimeoutError:\n\u001b[1;32m    157\u001b[0m     \u001b[38;5;28;01mpass\u001b[39;00m\n\u001b[0;32m--> 158\u001b[0m \u001b[38;5;28;01mreturn\u001b[39;00m \u001b[43mgrpc\u001b[49m\u001b[38;5;241;43m.\u001b[39;49m\u001b[43mchannel_ready_future\u001b[49m\u001b[43m(\u001b[49m\u001b[43mchannel\u001b[49m\u001b[43m)\u001b[49m\u001b[38;5;241;43m.\u001b[39;49m\u001b[43mresult\u001b[49m\u001b[43m(\u001b[49m\u001b[43mtimeout\u001b[49m\u001b[38;5;241;43m=\u001b[39;49m\u001b[38;5;241;43m1\u001b[39;49m\u001b[43m)\u001b[49m\n",
      "File \u001b[0;32m~/anaconda3/envs/une/lib/python3.10/site-packages/grpc/_utilities.py:139\u001b[0m, in \u001b[0;36m_ChannelReadyFuture.result\u001b[0;34m(self, timeout)\u001b[0m\n\u001b[1;32m    138\u001b[0m \u001b[38;5;28;01mdef\u001b[39;00m \u001b[38;5;21mresult\u001b[39m(\u001b[38;5;28mself\u001b[39m, timeout\u001b[38;5;241m=\u001b[39m\u001b[38;5;28;01mNone\u001b[39;00m):\n\u001b[0;32m--> 139\u001b[0m     \u001b[38;5;28;43mself\u001b[39;49m\u001b[38;5;241;43m.\u001b[39;49m\u001b[43m_block\u001b[49m\u001b[43m(\u001b[49m\u001b[43mtimeout\u001b[49m\u001b[43m)\u001b[49m\n",
      "File \u001b[0;32m~/anaconda3/envs/une/lib/python3.10/site-packages/grpc/_utilities.py:85\u001b[0m, in \u001b[0;36m_ChannelReadyFuture._block\u001b[0;34m(self, timeout)\u001b[0m\n\u001b[1;32m     83\u001b[0m remaining \u001b[38;5;241m=\u001b[39m until \u001b[38;5;241m-\u001b[39m time\u001b[38;5;241m.\u001b[39mtime()\n\u001b[1;32m     84\u001b[0m \u001b[38;5;28;01mif\u001b[39;00m remaining \u001b[38;5;241m<\u001b[39m \u001b[38;5;241m0\u001b[39m:\n\u001b[0;32m---> 85\u001b[0m     \u001b[38;5;28;01mraise\u001b[39;00m grpc\u001b[38;5;241m.\u001b[39mFutureTimeoutError()\n\u001b[1;32m     86\u001b[0m \u001b[38;5;28;01melse\u001b[39;00m:\n\u001b[1;32m     87\u001b[0m     \u001b[38;5;28mself\u001b[39m\u001b[38;5;241m.\u001b[39m_condition\u001b[38;5;241m.\u001b[39mwait(timeout\u001b[38;5;241m=\u001b[39mremaining)\n",
      "\u001b[0;31mFutureTimeoutError\u001b[0m: "
     ]
    }
   ],
   "source": [
    "import dm_hard_eight\n",
    "\n",
    "settings = dm_hard_eight.EnvironmentSettings(seed=123,\n",
    "    level_name='ball_room_navigation_cubes')\n",
    "env = dm_hard_eight.load_from_docker(settings)"
   ]
  },
  {
   "cell_type": "code",
   "execution_count": null,
   "id": "14c25891",
   "metadata": {},
   "outputs": [],
   "source": []
  }
 ],
 "metadata": {
  "kernelspec": {
   "display_name": "une",
   "language": "python",
   "name": "une"
  },
  "language_info": {
   "codemirror_mode": {
    "name": "ipython",
    "version": 3
   },
   "file_extension": ".py",
   "mimetype": "text/x-python",
   "name": "python",
   "nbconvert_exporter": "python",
   "pygments_lexer": "ipython3",
   "version": "3.10.6"
  }
 },
 "nbformat": 4,
 "nbformat_minor": 5
}
